{
  "nbformat": 4,
  "nbformat_minor": 0,
  "metadata": {
    "colab": {
      "name": "Untitled1.ipynb",
      "provenance": [],
      "authorship_tag": "ABX9TyPQrYNMfQkKDHCkGdfb/TkF",
      "include_colab_link": true
    },
    "kernelspec": {
      "name": "python3",
      "display_name": "Python 3"
    }
  },
  "cells": [
    {
      "cell_type": "markdown",
      "metadata": {
        "id": "view-in-github",
        "colab_type": "text"
      },
      "source": [
        "<a href=\"https://colab.research.google.com/github/filipediniz/Coursera_Capstone/blob/master/Toronto_week3.ipynb\" target=\"_parent\"><img src=\"https://colab.research.google.com/assets/colab-badge.svg\" alt=\"Open In Colab\"/></a>"
      ]
    },
    {
      "cell_type": "markdown",
      "metadata": {
        "id": "dGEBAWRb-Y4b",
        "colab_type": "text"
      },
      "source": [
        "1. Start by creating a new Notebook for this assignment."
      ]
    },
    {
      "cell_type": "code",
      "metadata": {
        "id": "SDM_-rD0-aCX",
        "colab_type": "code",
        "colab": {}
      },
      "source": [
        "import numpy as np\n",
        "import pandas as pd\n",
        "import "
      ],
      "execution_count": 0,
      "outputs": []
    }
  ]
}