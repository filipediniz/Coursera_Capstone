{
  "nbformat": 4,
  "nbformat_minor": 0,
  "metadata": {
    "colab": {
      "name": "Toronto_week3.ipynb",
      "provenance": [],
      "collapsed_sections": [],
      "authorship_tag": "ABX9TyPhgJnKbyDdElNWAhx09WPm",
      "include_colab_link": true
    },
    "kernelspec": {
      "name": "python3",
      "display_name": "Python 3"
    }
  },
  "cells": [
    {
      "cell_type": "markdown",
      "metadata": {
        "id": "view-in-github",
        "colab_type": "text"
      },
      "source": [
        "<a href=\"https://colab.research.google.com/github/filipediniz/Coursera_Capstone/blob/master/Toronto_week3.ipynb\" target=\"_parent\"><img src=\"https://colab.research.google.com/assets/colab-badge.svg\" alt=\"Open In Colab\"/></a>"
      ]
    },
    {
      "cell_type": "code",
      "metadata": {
        "id": "sKCKij_-AMDO",
        "colab_type": "code",
        "colab": {
          "base_uri": "https://localhost:8080/",
          "height": 1000
        },
        "outputId": "75f869aa-e29e-4ec7-d9d3-f3a0f16189bb"
      },
      "source": [
        "!pip install requests_html\n",
        "!pip install pixiedust\n",
        "!pip install geocoder"
      ],
      "execution_count": 1,
      "outputs": [
        {
          "output_type": "stream",
          "text": [
            "Collecting requests_html\n",
            "  Downloading https://files.pythonhosted.org/packages/24/bc/a4380f09bab3a776182578ce6b2771e57259d0d4dbce178205779abdc347/requests_html-0.10.0-py3-none-any.whl\n",
            "Collecting w3lib\n",
            "  Downloading https://files.pythonhosted.org/packages/6a/45/1ba17c50a0bb16bd950c9c2b92ec60d40c8ebda9f3371ae4230c437120b6/w3lib-1.21.0-py2.py3-none-any.whl\n",
            "Collecting pyquery\n",
            "  Downloading https://files.pythonhosted.org/packages/78/43/95d42e386c61cb639d1a0b94f0c0b9f0b7d6b981ad3c043a836c8b5bc68b/pyquery-1.4.1-py2.py3-none-any.whl\n",
            "Collecting fake-useragent\n",
            "  Downloading https://files.pythonhosted.org/packages/d1/79/af647635d6968e2deb57a208d309f6069d31cb138066d7e821e575112a80/fake-useragent-0.1.11.tar.gz\n",
            "Collecting pyppeteer>=0.0.14\n",
            "\u001b[?25l  Downloading https://files.pythonhosted.org/packages/b0/16/a5e8d617994cac605f972523bb25f12e3ff9c30baee29b4a9c50467229d9/pyppeteer-0.0.25.tar.gz (1.2MB)\n",
            "\u001b[K     |████████████████████████████████| 1.2MB 13.2MB/s \n",
            "\u001b[?25hRequirement already satisfied: requests in /usr/local/lib/python3.6/dist-packages (from requests_html) (2.21.0)\n",
            "Collecting parse\n",
            "  Downloading https://files.pythonhosted.org/packages/f4/65/220bb4075fddb09d5b3ea2c1c1fa66c1c72be9361ec187aab50fa161e576/parse-1.15.0.tar.gz\n",
            "Requirement already satisfied: bs4 in /usr/local/lib/python3.6/dist-packages (from requests_html) (0.0.1)\n",
            "Requirement already satisfied: six>=1.4.1 in /usr/local/lib/python3.6/dist-packages (from w3lib->requests_html) (1.12.0)\n",
            "Requirement already satisfied: lxml>=2.1 in /usr/local/lib/python3.6/dist-packages (from pyquery->requests_html) (4.2.6)\n",
            "Collecting cssselect>0.7.9\n",
            "  Downloading https://files.pythonhosted.org/packages/3b/d4/3b5c17f00cce85b9a1e6f91096e1cc8e8ede2e1be8e96b87ce1ed09e92c5/cssselect-1.1.0-py2.py3-none-any.whl\n",
            "Collecting pyee\n",
            "  Downloading https://files.pythonhosted.org/packages/d4/ce/a9a45667cdffbda2af63baa3ad1adca2feb80abf307d0dc91f9dfdfb3ec3/pyee-7.0.1-py2.py3-none-any.whl\n",
            "Collecting websockets\n",
            "\u001b[?25l  Downloading https://files.pythonhosted.org/packages/bb/d9/856af84843912e2853b1b6e898ac8b802989fcf9ecf8e8445a1da263bf3b/websockets-8.1-cp36-cp36m-manylinux2010_x86_64.whl (78kB)\n",
            "\u001b[K     |████████████████████████████████| 81kB 8.0MB/s \n",
            "\u001b[?25hCollecting appdirs\n",
            "  Downloading https://files.pythonhosted.org/packages/56/eb/810e700ed1349edde4cbdc1b2a21e28cdf115f9faf263f6bbf8447c1abf3/appdirs-1.4.3-py2.py3-none-any.whl\n",
            "Requirement already satisfied: urllib3 in /usr/local/lib/python3.6/dist-packages (from pyppeteer>=0.0.14->requests_html) (1.24.3)\n",
            "Requirement already satisfied: tqdm in /usr/local/lib/python3.6/dist-packages (from pyppeteer>=0.0.14->requests_html) (4.28.1)\n",
            "Requirement already satisfied: certifi>=2017.4.17 in /usr/local/lib/python3.6/dist-packages (from requests->requests_html) (2019.11.28)\n",
            "Requirement already satisfied: chardet<3.1.0,>=3.0.2 in /usr/local/lib/python3.6/dist-packages (from requests->requests_html) (3.0.4)\n",
            "Requirement already satisfied: idna<2.9,>=2.5 in /usr/local/lib/python3.6/dist-packages (from requests->requests_html) (2.8)\n",
            "Requirement already satisfied: beautifulsoup4 in /usr/local/lib/python3.6/dist-packages (from bs4->requests_html) (4.6.3)\n",
            "Building wheels for collected packages: fake-useragent, pyppeteer, parse\n",
            "  Building wheel for fake-useragent (setup.py) ... \u001b[?25l\u001b[?25hdone\n",
            "  Created wheel for fake-useragent: filename=fake_useragent-0.1.11-cp36-none-any.whl size=13484 sha256=c9497ac75370e9fd02a8c747da8304d462a6e226f88d963dc309f4128a3de6e3\n",
            "  Stored in directory: /root/.cache/pip/wheels/5e/63/09/d1dc15179f175357d3f5c00cbffbac37f9e8690d80545143ff\n",
            "  Building wheel for pyppeteer (setup.py) ... \u001b[?25l\u001b[?25hdone\n",
            "  Created wheel for pyppeteer: filename=pyppeteer-0.0.25-cp36-none-any.whl size=78360 sha256=b245c2ccdefde024c56674c462f9d4e74ad18a1e6b2457cbbdcc97ee8bed584c\n",
            "  Stored in directory: /root/.cache/pip/wheels/34/e0/5d/070e22eceecf7ecd5fa4b86bbc18c1c7d0b90e02e9b57f35eb\n",
            "  Building wheel for parse (setup.py) ... \u001b[?25l\u001b[?25hdone\n",
            "  Created wheel for parse: filename=parse-1.15.0-cp36-none-any.whl size=23710 sha256=ed5e6c7dcf06b5bf196122b5b57615bdda2b5593199af2956b938a73a1c1f71a\n",
            "  Stored in directory: /root/.cache/pip/wheels/07/ee/c8/eced0759f09fc635398ab1b8e89c38549b28e5db7fd4a53ba5\n",
            "Successfully built fake-useragent pyppeteer parse\n",
            "Installing collected packages: w3lib, cssselect, pyquery, fake-useragent, pyee, websockets, appdirs, pyppeteer, parse, requests-html\n",
            "Successfully installed appdirs-1.4.3 cssselect-1.1.0 fake-useragent-0.1.11 parse-1.15.0 pyee-7.0.1 pyppeteer-0.0.25 pyquery-1.4.1 requests-html-0.10.0 w3lib-1.21.0 websockets-8.1\n",
            "Collecting pixiedust\n",
            "\u001b[?25l  Downloading https://files.pythonhosted.org/packages/16/ba/7488f06b48238205562f9d63aaae2303c060c5dfd63b1ddd3bd9d4656eb1/pixiedust-1.1.18.tar.gz (197kB)\n",
            "\u001b[K     |████████████████████████████████| 204kB 4.9MB/s \n",
            "\u001b[?25hCollecting mpld3\n",
            "\u001b[?25l  Downloading https://files.pythonhosted.org/packages/91/95/a52d3a83d0a29ba0d6898f6727e9858fe7a43f6c2ce81a5fe7e05f0f4912/mpld3-0.3.tar.gz (788kB)\n",
            "\u001b[K     |████████████████████████████████| 798kB 42.0MB/s \n",
            "\u001b[?25hRequirement already satisfied: lxml in /usr/local/lib/python3.6/dist-packages (from pixiedust) (4.2.6)\n",
            "Collecting geojson\n",
            "  Downloading https://files.pythonhosted.org/packages/e4/8d/9e28e9af95739e6d2d2f8d4bef0b3432da40b7c3588fbad4298c1be09e48/geojson-2.5.0-py2.py3-none-any.whl\n",
            "Collecting astunparse\n",
            "  Downloading https://files.pythonhosted.org/packages/2b/03/13dde6512ad7b4557eb792fbcf0c653af6076b81e5941d36ec61f7ce6028/astunparse-1.6.3-py2.py3-none-any.whl\n",
            "Requirement already satisfied: markdown in /usr/local/lib/python3.6/dist-packages (from pixiedust) (3.2.1)\n",
            "Collecting colour\n",
            "  Downloading https://files.pythonhosted.org/packages/74/46/e81907704ab203206769dee1385dc77e1407576ff8f50a0681d0a6b541be/colour-0.1.5-py2.py3-none-any.whl\n",
            "Requirement already satisfied: requests in /usr/local/lib/python3.6/dist-packages (from pixiedust) (2.21.0)\n",
            "Requirement already satisfied: wheel<1.0,>=0.23.0 in /usr/local/lib/python3.6/dist-packages (from astunparse->pixiedust) (0.34.2)\n",
            "Requirement already satisfied: six<2.0,>=1.6.1 in /usr/local/lib/python3.6/dist-packages (from astunparse->pixiedust) (1.12.0)\n",
            "Requirement already satisfied: setuptools>=36 in /usr/local/lib/python3.6/dist-packages (from markdown->pixiedust) (45.2.0)\n",
            "Requirement already satisfied: idna<2.9,>=2.5 in /usr/local/lib/python3.6/dist-packages (from requests->pixiedust) (2.8)\n",
            "Requirement already satisfied: certifi>=2017.4.17 in /usr/local/lib/python3.6/dist-packages (from requests->pixiedust) (2019.11.28)\n",
            "Requirement already satisfied: chardet<3.1.0,>=3.0.2 in /usr/local/lib/python3.6/dist-packages (from requests->pixiedust) (3.0.4)\n",
            "Requirement already satisfied: urllib3<1.25,>=1.21.1 in /usr/local/lib/python3.6/dist-packages (from requests->pixiedust) (1.24.3)\n",
            "Building wheels for collected packages: pixiedust, mpld3\n",
            "  Building wheel for pixiedust (setup.py) ... \u001b[?25l\u001b[?25hdone\n",
            "  Created wheel for pixiedust: filename=pixiedust-1.1.18-cp36-none-any.whl size=321729 sha256=a57075c1b07957a9e74a346b51590279dfb1e14a29e3ce2676b838e9b1402217\n",
            "  Stored in directory: /root/.cache/pip/wheels/e8/b1/86/c2f2e16e6bf9bfe556f9dbf8adb9f41816c476d73078c7d0eb\n",
            "  Building wheel for mpld3 (setup.py) ... \u001b[?25l\u001b[?25hdone\n",
            "  Created wheel for mpld3: filename=mpld3-0.3-cp36-none-any.whl size=116679 sha256=c939125c0e787c051d62b2e9283d6cefad267d01a581d107344d50e83fb0d35d\n",
            "  Stored in directory: /root/.cache/pip/wheels/c0/47/fb/8a64f89aecfe0059830479308ad42d62e898a3e3cefdf6ba28\n",
            "Successfully built pixiedust mpld3\n",
            "Installing collected packages: mpld3, geojson, astunparse, colour, pixiedust\n",
            "Successfully installed astunparse-1.6.3 colour-0.1.5 geojson-2.5.0 mpld3-0.3 pixiedust-1.1.18\n",
            "Collecting geocoder\n",
            "\u001b[?25l  Downloading https://files.pythonhosted.org/packages/4f/6b/13166c909ad2f2d76b929a4227c952630ebaf0d729f6317eb09cbceccbab/geocoder-1.38.1-py2.py3-none-any.whl (98kB)\n",
            "\u001b[K     |████████████████████████████████| 102kB 3.6MB/s \n",
            "\u001b[?25hRequirement already satisfied: six in /usr/local/lib/python3.6/dist-packages (from geocoder) (1.12.0)\n",
            "Requirement already satisfied: future in /usr/local/lib/python3.6/dist-packages (from geocoder) (0.16.0)\n",
            "Requirement already satisfied: requests in /usr/local/lib/python3.6/dist-packages (from geocoder) (2.21.0)\n",
            "Collecting ratelim\n",
            "  Downloading https://files.pythonhosted.org/packages/f2/98/7e6d147fd16a10a5f821db6e25f192265d6ecca3d82957a4fdd592cad49c/ratelim-0.1.6-py2.py3-none-any.whl\n",
            "Requirement already satisfied: click in /usr/local/lib/python3.6/dist-packages (from geocoder) (7.0)\n",
            "Requirement already satisfied: urllib3<1.25,>=1.21.1 in /usr/local/lib/python3.6/dist-packages (from requests->geocoder) (1.24.3)\n",
            "Requirement already satisfied: chardet<3.1.0,>=3.0.2 in /usr/local/lib/python3.6/dist-packages (from requests->geocoder) (3.0.4)\n",
            "Requirement already satisfied: certifi>=2017.4.17 in /usr/local/lib/python3.6/dist-packages (from requests->geocoder) (2019.11.28)\n",
            "Requirement already satisfied: idna<2.9,>=2.5 in /usr/local/lib/python3.6/dist-packages (from requests->geocoder) (2.8)\n",
            "Requirement already satisfied: decorator in /usr/local/lib/python3.6/dist-packages (from ratelim->geocoder) (4.4.1)\n",
            "Installing collected packages: ratelim, geocoder\n",
            "Successfully installed geocoder-1.38.1 ratelim-0.1.6\n"
          ],
          "name": "stdout"
        }
      ]
    },
    {
      "cell_type": "code",
      "metadata": {
        "id": "SDM_-rD0-aCX",
        "colab_type": "code",
        "colab": {
          "base_uri": "https://localhost:8080/",
          "height": 462
        },
        "outputId": "e30cf678-3ef4-496c-bb9e-e0e7ca4383bc"
      },
      "source": [
        "import pandas as pd\n",
        "from pandas.plotting import register_matplotlib_converters\n",
        "register_matplotlib_converters()\n",
        "\n",
        "import numpy as np\n",
        "import matplotlib.pyplot as mpl\n",
        "%matplotlib inline\n",
        "import pixiedust\n",
        "import requests\n",
        "from requests_html import HTMLSession\n",
        "import re as regex\n",
        "\n",
        "import datetime as dt\n",
        "from pandas_datareader import data\n",
        "\n",
        "from IPython.display import clear_output\n",
        "\n",
        "import pickle"
      ],
      "execution_count": 2,
      "outputs": [
        {
          "output_type": "stream",
          "text": [
            "Pixiedust database opened successfully\n",
            "Table VERSION_TRACKER created successfully\n",
            "Table METRICS_TRACKER created successfully\n",
            "\n",
            "Share anonymous install statistics? (opt-out instructions)\n",
            "\n",
            "PixieDust will record metadata on its environment the next time the package is installed or updated. The data is anonymized and aggregated to help plan for future releases, and records only the following values:\n",
            "\n",
            "{\n",
            "   \"data_sent\": currentDate,\n",
            "   \"runtime\": \"python\",\n",
            "   \"application_version\": currentPixiedustVersion,\n",
            "   \"space_id\": nonIdentifyingUniqueId,\n",
            "   \"config\": {\n",
            "       \"repository_id\": \"https://github.com/ibm-watson-data-lab/pixiedust\",\n",
            "       \"target_runtimes\": [\"Data Science Experience\"],\n",
            "       \"event_id\": \"web\",\n",
            "       \"event_organizer\": \"dev-journeys\"\n",
            "   }\n",
            "}\n",
            "You can opt out by calling pixiedust.optOut() in a new cell.\n"
          ],
          "name": "stdout"
        },
        {
          "output_type": "display_data",
          "data": {
            "text/html": [
              "\n",
              "        <div style=\"margin:10px\">\n",
              "            <a href=\"https://github.com/ibm-watson-data-lab/pixiedust\" target=\"_new\">\n",
              "                <img src=\"https://github.com/ibm-watson-data-lab/pixiedust/raw/master/docs/_static/pd_icon32.png\" style=\"float:left;margin-right:10px\"/>\n",
              "            </a>\n",
              "            <span>Pixiedust version 1.1.18</span>\n",
              "        </div>\n",
              "        "
            ],
            "text/plain": [
              "<IPython.core.display.HTML object>"
            ]
          },
          "metadata": {
            "tags": []
          }
        },
        {
          "output_type": "stream",
          "text": [
            "\u001b[31mPixiedust runtime updated. Please restart kernel\u001b[0m\n",
            "Table USER_PREFERENCES created successfully\n",
            "Table service_connections created successfully\n"
          ],
          "name": "stdout"
        }
      ]
    },
    {
      "cell_type": "markdown",
      "metadata": {
        "id": "dGEBAWRb-Y4b",
        "colab_type": "text"
      },
      "source": [
        "1. Start by creating a new Notebook for this assignment.\n",
        "\n",
        "2. Use the Notebook to build the code to scrape the following Wikipedia page, https://en.wikipedia.org/wiki/List_of_postal_codes_of_Canada:_M, in order to obtain the data that is in the table of postal codes and to transform the data into a pandas dataframe "
      ]
    },
    {
      "cell_type": "code",
      "metadata": {
        "id": "SyQmwgjnCQq5",
        "colab_type": "code",
        "colab": {}
      },
      "source": [
        "#%%pixie_debugger\n",
        "\n",
        "session = HTMLSession()\n",
        "DF = pd.DataFrame()\n",
        "ret = session.get('https://en.wikipedia.org/wiki/List_of_postal_codes_of_Canada:_M')    \n",
        "try:\n",
        "    DF = pd.read_html(ret.text, decimal=\",\", thousands='.', encoding='utf-8')[0]\n",
        "    #DF.columns = DF.iloc[0]\n",
        "    #DF = DF.reset_index()\n",
        "except:\n",
        "    print('Página sem dados')\n",
        "    "
      ],
      "execution_count": 0,
      "outputs": []
    },
    {
      "cell_type": "code",
      "metadata": {
        "id": "XR7sJlQyDMvv",
        "colab_type": "code",
        "outputId": "34ae401b-3147-4a60-ba06-aed280baa4b7",
        "colab": {
          "base_uri": "https://localhost:8080/",
          "height": 419
        }
      },
      "source": [
        "DF"
      ],
      "execution_count": 4,
      "outputs": [
        {
          "output_type": "execute_result",
          "data": {
            "text/html": [
              "<div>\n",
              "<style scoped>\n",
              "    .dataframe tbody tr th:only-of-type {\n",
              "        vertical-align: middle;\n",
              "    }\n",
              "\n",
              "    .dataframe tbody tr th {\n",
              "        vertical-align: top;\n",
              "    }\n",
              "\n",
              "    .dataframe thead th {\n",
              "        text-align: right;\n",
              "    }\n",
              "</style>\n",
              "<table border=\"1\" class=\"dataframe\">\n",
              "  <thead>\n",
              "    <tr style=\"text-align: right;\">\n",
              "      <th></th>\n",
              "      <th>Postcode</th>\n",
              "      <th>Borough</th>\n",
              "      <th>Neighbourhood</th>\n",
              "    </tr>\n",
              "  </thead>\n",
              "  <tbody>\n",
              "    <tr>\n",
              "      <th>0</th>\n",
              "      <td>M1A</td>\n",
              "      <td>Not assigned</td>\n",
              "      <td>Not assigned</td>\n",
              "    </tr>\n",
              "    <tr>\n",
              "      <th>1</th>\n",
              "      <td>M2A</td>\n",
              "      <td>Not assigned</td>\n",
              "      <td>Not assigned</td>\n",
              "    </tr>\n",
              "    <tr>\n",
              "      <th>2</th>\n",
              "      <td>M3A</td>\n",
              "      <td>North York</td>\n",
              "      <td>Parkwoods</td>\n",
              "    </tr>\n",
              "    <tr>\n",
              "      <th>3</th>\n",
              "      <td>M4A</td>\n",
              "      <td>North York</td>\n",
              "      <td>Victoria Village</td>\n",
              "    </tr>\n",
              "    <tr>\n",
              "      <th>4</th>\n",
              "      <td>M5A</td>\n",
              "      <td>Downtown Toronto</td>\n",
              "      <td>Harbourfront</td>\n",
              "    </tr>\n",
              "    <tr>\n",
              "      <th>...</th>\n",
              "      <td>...</td>\n",
              "      <td>...</td>\n",
              "      <td>...</td>\n",
              "    </tr>\n",
              "    <tr>\n",
              "      <th>282</th>\n",
              "      <td>M8Z</td>\n",
              "      <td>Etobicoke</td>\n",
              "      <td>Mimico NW</td>\n",
              "    </tr>\n",
              "    <tr>\n",
              "      <th>283</th>\n",
              "      <td>M8Z</td>\n",
              "      <td>Etobicoke</td>\n",
              "      <td>The Queensway West</td>\n",
              "    </tr>\n",
              "    <tr>\n",
              "      <th>284</th>\n",
              "      <td>M8Z</td>\n",
              "      <td>Etobicoke</td>\n",
              "      <td>Royal York South West</td>\n",
              "    </tr>\n",
              "    <tr>\n",
              "      <th>285</th>\n",
              "      <td>M8Z</td>\n",
              "      <td>Etobicoke</td>\n",
              "      <td>South of Bloor</td>\n",
              "    </tr>\n",
              "    <tr>\n",
              "      <th>286</th>\n",
              "      <td>M9Z</td>\n",
              "      <td>Not assigned</td>\n",
              "      <td>Not assigned</td>\n",
              "    </tr>\n",
              "  </tbody>\n",
              "</table>\n",
              "<p>287 rows × 3 columns</p>\n",
              "</div>"
            ],
            "text/plain": [
              "    Postcode           Borough          Neighbourhood\n",
              "0        M1A      Not assigned           Not assigned\n",
              "1        M2A      Not assigned           Not assigned\n",
              "2        M3A        North York              Parkwoods\n",
              "3        M4A        North York       Victoria Village\n",
              "4        M5A  Downtown Toronto           Harbourfront\n",
              "..       ...               ...                    ...\n",
              "282      M8Z         Etobicoke              Mimico NW\n",
              "283      M8Z         Etobicoke     The Queensway West\n",
              "284      M8Z         Etobicoke  Royal York South West\n",
              "285      M8Z         Etobicoke         South of Bloor\n",
              "286      M9Z      Not assigned           Not assigned\n",
              "\n",
              "[287 rows x 3 columns]"
            ]
          },
          "metadata": {
            "tags": []
          },
          "execution_count": 4
        }
      ]
    },
    {
      "cell_type": "markdown",
      "metadata": {
        "id": "iz9bjwo7GB0k",
        "colab_type": "text"
      },
      "source": [
        " 3. To create the above dataframe:\n",
        "\n",
        "- The dataframe will consist of three columns: PostalCode, Borough, and Neighborhood\n",
        "\n",
        "- Only process the cells that have an assigned borough. Ignore cells with a borough that is Not assigned."
      ]
    },
    {
      "cell_type": "code",
      "metadata": {
        "id": "ah3jcX6TGCi2",
        "colab_type": "code",
        "colab": {}
      },
      "source": [
        "# Get names of indexes for which column Age has value 30\n",
        "indexDrop = DF[DF['Borough'] == 'Not assigned'].index\n",
        " \n",
        "# Delete these row indexes from dataFrame\n",
        "DF.drop(indexDrop , inplace=True)"
      ],
      "execution_count": 0,
      "outputs": []
    },
    {
      "cell_type": "code",
      "metadata": {
        "id": "2Rca0Wx6Lksl",
        "colab_type": "code",
        "outputId": "7d21d6d1-0e41-48f7-c827-c3adce979598",
        "colab": {
          "base_uri": "https://localhost:8080/",
          "height": 419
        }
      },
      "source": [
        "DF"
      ],
      "execution_count": 6,
      "outputs": [
        {
          "output_type": "execute_result",
          "data": {
            "text/html": [
              "<div>\n",
              "<style scoped>\n",
              "    .dataframe tbody tr th:only-of-type {\n",
              "        vertical-align: middle;\n",
              "    }\n",
              "\n",
              "    .dataframe tbody tr th {\n",
              "        vertical-align: top;\n",
              "    }\n",
              "\n",
              "    .dataframe thead th {\n",
              "        text-align: right;\n",
              "    }\n",
              "</style>\n",
              "<table border=\"1\" class=\"dataframe\">\n",
              "  <thead>\n",
              "    <tr style=\"text-align: right;\">\n",
              "      <th></th>\n",
              "      <th>Postcode</th>\n",
              "      <th>Borough</th>\n",
              "      <th>Neighbourhood</th>\n",
              "    </tr>\n",
              "  </thead>\n",
              "  <tbody>\n",
              "    <tr>\n",
              "      <th>2</th>\n",
              "      <td>M3A</td>\n",
              "      <td>North York</td>\n",
              "      <td>Parkwoods</td>\n",
              "    </tr>\n",
              "    <tr>\n",
              "      <th>3</th>\n",
              "      <td>M4A</td>\n",
              "      <td>North York</td>\n",
              "      <td>Victoria Village</td>\n",
              "    </tr>\n",
              "    <tr>\n",
              "      <th>4</th>\n",
              "      <td>M5A</td>\n",
              "      <td>Downtown Toronto</td>\n",
              "      <td>Harbourfront</td>\n",
              "    </tr>\n",
              "    <tr>\n",
              "      <th>5</th>\n",
              "      <td>M6A</td>\n",
              "      <td>North York</td>\n",
              "      <td>Lawrence Heights</td>\n",
              "    </tr>\n",
              "    <tr>\n",
              "      <th>6</th>\n",
              "      <td>M6A</td>\n",
              "      <td>North York</td>\n",
              "      <td>Lawrence Manor</td>\n",
              "    </tr>\n",
              "    <tr>\n",
              "      <th>...</th>\n",
              "      <td>...</td>\n",
              "      <td>...</td>\n",
              "      <td>...</td>\n",
              "    </tr>\n",
              "    <tr>\n",
              "      <th>281</th>\n",
              "      <td>M8Z</td>\n",
              "      <td>Etobicoke</td>\n",
              "      <td>Kingsway Park South West</td>\n",
              "    </tr>\n",
              "    <tr>\n",
              "      <th>282</th>\n",
              "      <td>M8Z</td>\n",
              "      <td>Etobicoke</td>\n",
              "      <td>Mimico NW</td>\n",
              "    </tr>\n",
              "    <tr>\n",
              "      <th>283</th>\n",
              "      <td>M8Z</td>\n",
              "      <td>Etobicoke</td>\n",
              "      <td>The Queensway West</td>\n",
              "    </tr>\n",
              "    <tr>\n",
              "      <th>284</th>\n",
              "      <td>M8Z</td>\n",
              "      <td>Etobicoke</td>\n",
              "      <td>Royal York South West</td>\n",
              "    </tr>\n",
              "    <tr>\n",
              "      <th>285</th>\n",
              "      <td>M8Z</td>\n",
              "      <td>Etobicoke</td>\n",
              "      <td>South of Bloor</td>\n",
              "    </tr>\n",
              "  </tbody>\n",
              "</table>\n",
              "<p>210 rows × 3 columns</p>\n",
              "</div>"
            ],
            "text/plain": [
              "    Postcode           Borough             Neighbourhood\n",
              "2        M3A        North York                 Parkwoods\n",
              "3        M4A        North York          Victoria Village\n",
              "4        M5A  Downtown Toronto              Harbourfront\n",
              "5        M6A        North York          Lawrence Heights\n",
              "6        M6A        North York            Lawrence Manor\n",
              "..       ...               ...                       ...\n",
              "281      M8Z         Etobicoke  Kingsway Park South West\n",
              "282      M8Z         Etobicoke                 Mimico NW\n",
              "283      M8Z         Etobicoke        The Queensway West\n",
              "284      M8Z         Etobicoke     Royal York South West\n",
              "285      M8Z         Etobicoke            South of Bloor\n",
              "\n",
              "[210 rows x 3 columns]"
            ]
          },
          "metadata": {
            "tags": []
          },
          "execution_count": 6
        }
      ]
    },
    {
      "cell_type": "markdown",
      "metadata": {
        "id": "SMssS4gVN3sz",
        "colab_type": "text"
      },
      "source": [
        "- More than one neighborhood can exist in one postal code area. For example, in the table on the Wikipedia page, you will notice that M5A is listed twice and has two neighborhoods: Harbourfront and Regent Park. These two rows will be combined into one row with the neighborhoods separated with a comma as shown in row 11 in the above table.\n",
        "- If a cell has a borough but a Not assigned neighborhood, then the neighborhood will be the same as the borough."
      ]
    },
    {
      "cell_type": "code",
      "metadata": {
        "id": "o1poOFbfMfwO",
        "colab_type": "code",
        "outputId": "4ef48208-0f70-4a97-cf4c-37e84598f506",
        "colab": {
          "base_uri": "https://localhost:8080/",
          "height": 49
        }
      },
      "source": [
        "DF[DF['Neighbourhood']=='Not assigned']"
      ],
      "execution_count": 7,
      "outputs": [
        {
          "output_type": "execute_result",
          "data": {
            "text/html": [
              "<div>\n",
              "<style scoped>\n",
              "    .dataframe tbody tr th:only-of-type {\n",
              "        vertical-align: middle;\n",
              "    }\n",
              "\n",
              "    .dataframe tbody tr th {\n",
              "        vertical-align: top;\n",
              "    }\n",
              "\n",
              "    .dataframe thead th {\n",
              "        text-align: right;\n",
              "    }\n",
              "</style>\n",
              "<table border=\"1\" class=\"dataframe\">\n",
              "  <thead>\n",
              "    <tr style=\"text-align: right;\">\n",
              "      <th></th>\n",
              "      <th>Postcode</th>\n",
              "      <th>Borough</th>\n",
              "      <th>Neighbourhood</th>\n",
              "    </tr>\n",
              "  </thead>\n",
              "  <tbody>\n",
              "  </tbody>\n",
              "</table>\n",
              "</div>"
            ],
            "text/plain": [
              "Empty DataFrame\n",
              "Columns: [Postcode, Borough, Neighbourhood]\n",
              "Index: []"
            ]
          },
          "metadata": {
            "tags": []
          },
          "execution_count": 7
        }
      ]
    },
    {
      "cell_type": "markdown",
      "metadata": {
        "id": "n8yp-X-BQUkn",
        "colab_type": "text"
      },
      "source": [
        "No row has a neighbourhood that is 'Not assigned''"
      ]
    },
    {
      "cell_type": "markdown",
      "metadata": {
        "id": "ySTWJYruP9sJ",
        "colab_type": "text"
      },
      "source": [
        "- Clean your Notebook and add Markdown cells to explain your work and any assumptions you are making.\n",
        "- In the last cell of your notebook, use the .shape method to print the number of rows of your dataframe."
      ]
    },
    {
      "cell_type": "code",
      "metadata": {
        "id": "Dag2ySzyP-gd",
        "colab_type": "code",
        "outputId": "28aa1c7e-603d-42c1-baa9-5598bd77fdd8",
        "colab": {
          "base_uri": "https://localhost:8080/",
          "height": 34
        }
      },
      "source": [
        "DF.shape"
      ],
      "execution_count": 8,
      "outputs": [
        {
          "output_type": "execute_result",
          "data": {
            "text/plain": [
              "(210, 3)"
            ]
          },
          "metadata": {
            "tags": []
          },
          "execution_count": 8
        }
      ]
    },
    {
      "cell_type": "markdown",
      "metadata": {
        "id": "-yXwQ4LuRQxj",
        "colab_type": "text"
      },
      "source": [
        "4. Submit a link to your Notebook on your Github repository. (10 marks)"
      ]
    },
    {
      "cell_type": "markdown",
      "metadata": {
        "id": "zmnZVDLCeHLU",
        "colab_type": "text"
      },
      "source": [
        "Now that you have built a dataframe of the postal code of each neighborhood along with the borough name and neighborhood name, in order to utilize the Foursquare location data, we need to get the latitude and the longitude coordinates of each neighborhood.\n",
        "\n",
        "In an older version of this course, we were leveraging the Google Maps Geocoding API to get the latitude and the longitude coordinates of each neighborhood. However, recently Google started charging for their API: http://geoawesomeness.com/developers-up-in-arms-over-google-maps-api-insane-price-hike/, so we will use the Geocoder Python package instead: https://geocoder.readthedocs.io/index.html."
      ]
    },
    {
      "cell_type": "markdown",
      "metadata": {
        "id": "Y6J6r_2Tf5Ld",
        "colab_type": "text"
      },
      "source": [
        "The problem with this Package is you have to be persistent sometimes in order to get the geographical coordinates of a given postal code. So you can make a call to get the latitude and longitude coordinates of a given postal code and the result would be None, and then make the call again and you would get the coordinates. So, in order to make sure that you get the coordinates for all of our neighborhoods, you can run a while loop for each postal code. Taking postal code M5G as an example, your code would look something like this:"
      ]
    },
    {
      "cell_type": "code",
      "metadata": {
        "id": "ux8umm1mf6rD",
        "colab_type": "code",
        "colab": {}
      },
      "source": [
        "#import geocoder # import geocoder\n",
        "#from geopy.geocoders import Nominatim # convert an address into latitude and longitude values\n",
        "#\n",
        "#for r in range(0, DF.shape[0]):\n",
        "#  print('Current row: {}'.format(r))\n",
        "#  # initialize your variable to None\n",
        "#  lat_lng_coords = None\n",
        "#\n",
        "#  # loop until you get the coordinates\n",
        "#  g = None\n",
        "#  while(type(g) == type(None)):    \n",
        "#    print('Attempting to retrieve coordinates for address {}...'.format('{}, Toronto, Canada'.format(DF.iloc[r]['Postcode'])))\n",
        "#    geolocator = Nominatim(user_agent=\"toronto_explorer\")\n",
        "#    g = geolocator.geocode('{}, Toronto, Canada'.format(DF.iloc[r]['Postcode']))      \n",
        "#    if (type(g) != type(None)):    \n",
        "#      print('Latitude = {}; longitude = {}'.format(g.latitude, g.longitude))  \n",
        "#      DF.iloc[r]['Latitude'] = g.latitude\n",
        "#      DF.iloc[r]['Longitude'] = g.longitude"
      ],
      "execution_count": 0,
      "outputs": []
    },
    {
      "cell_type": "code",
      "metadata": {
        "id": "N8FMOOusm7p0",
        "colab_type": "code",
        "colab": {}
      },
      "source": [
        "LL = pd.read_csv('http://cocl.us/Geospatial_data')"
      ],
      "execution_count": 0,
      "outputs": []
    },
    {
      "cell_type": "code",
      "metadata": {
        "id": "inmoGE6OpQnd",
        "colab_type": "code",
        "colab": {
          "base_uri": "https://localhost:8080/",
          "height": 1000
        },
        "outputId": "2a824614-e8a0-4466-f8ca-7bfd2d08a858"
      },
      "source": [
        "for i in range(0, DF.shape[0]):\n",
        "  for j in range(0, LL.shape[0]):\n",
        "    if DF.iloc[i]['Postcode'] == LL.iloc[j]['Postal Code']:\n",
        "      print('Postal code {} coordinates are: latitude = {}; longitude = {}'.format(LL.iloc[j]['Postal Code'], LL.iloc[j]['Latitude'], LL.iloc[j]['Longitude']))\n",
        "      DF.ix[i, 'Latitude'] = LL.iloc[j]['Latitude']\n",
        "      DF.ix[i, 'Longitude'] = LL.iloc[j]['Longitude']\n",
        "      break"
      ],
      "execution_count": 11,
      "outputs": [
        {
          "output_type": "stream",
          "text": [
            "Postal code M3A coordinates are: latitude = 43.7532586; longitude = -79.3296565\n",
            "Postal code M4A coordinates are: latitude = 43.725882299999995; longitude = -79.31557159999998\n",
            "Postal code M5A coordinates are: latitude = 43.6542599; longitude = -79.3606359\n",
            "Postal code M6A coordinates are: latitude = 43.718517999999996; longitude = -79.46476329999999\n",
            "Postal code M6A coordinates are: latitude = 43.718517999999996; longitude = -79.46476329999999\n",
            "Postal code M7A coordinates are: latitude = 43.6623015; longitude = -79.3894938\n",
            "Postal code M9A coordinates are: latitude = 43.6678556; longitude = -79.53224240000002\n",
            "Postal code M1B coordinates are: latitude = 43.806686299999996; longitude = -79.19435340000001\n",
            "Postal code M1B coordinates are: latitude = 43.806686299999996; longitude = -79.19435340000001\n",
            "Postal code M3B coordinates are: latitude = 43.745905799999996; longitude = -79.352188\n",
            "Postal code M4B coordinates are: latitude = 43.7063972; longitude = -79.309937\n",
            "Postal code M4B coordinates are: latitude = 43.7063972; longitude = -79.309937\n"
          ],
          "name": "stdout"
        },
        {
          "output_type": "stream",
          "text": [
            "/usr/local/lib/python3.6/dist-packages/ipykernel_launcher.py:5: FutureWarning: \n",
            ".ix is deprecated. Please use\n",
            ".loc for label based indexing or\n",
            ".iloc for positional indexing\n",
            "\n",
            "See the documentation here:\n",
            "http://pandas.pydata.org/pandas-docs/stable/user_guide/indexing.html#ix-indexer-is-deprecated\n",
            "  \"\"\"\n",
            "/usr/local/lib/python3.6/dist-packages/ipykernel_launcher.py:6: FutureWarning: \n",
            ".ix is deprecated. Please use\n",
            ".loc for label based indexing or\n",
            ".iloc for positional indexing\n",
            "\n",
            "See the documentation here:\n",
            "http://pandas.pydata.org/pandas-docs/stable/user_guide/indexing.html#ix-indexer-is-deprecated\n",
            "  \n"
          ],
          "name": "stderr"
        },
        {
          "output_type": "stream",
          "text": [
            "Postal code M5B coordinates are: latitude = 43.6571618; longitude = -79.37893709999999\n",
            "Postal code M5B coordinates are: latitude = 43.6571618; longitude = -79.37893709999999\n",
            "Postal code M6B coordinates are: latitude = 43.709577; longitude = -79.44507259999999\n",
            "Postal code M9B coordinates are: latitude = 43.6509432; longitude = -79.55472440000001\n",
            "Postal code M9B coordinates are: latitude = 43.6509432; longitude = -79.55472440000001\n",
            "Postal code M9B coordinates are: latitude = 43.6509432; longitude = -79.55472440000001\n",
            "Postal code M9B coordinates are: latitude = 43.6509432; longitude = -79.55472440000001\n",
            "Postal code M9B coordinates are: latitude = 43.6509432; longitude = -79.55472440000001\n",
            "Postal code M1C coordinates are: latitude = 43.7845351; longitude = -79.16049709999999\n",
            "Postal code M1C coordinates are: latitude = 43.7845351; longitude = -79.16049709999999\n",
            "Postal code M1C coordinates are: latitude = 43.7845351; longitude = -79.16049709999999\n",
            "Postal code M3C coordinates are: latitude = 43.72589970000001; longitude = -79.340923\n",
            "Postal code M3C coordinates are: latitude = 43.72589970000001; longitude = -79.340923\n",
            "Postal code M4C coordinates are: latitude = 43.695343900000005; longitude = -79.3183887\n",
            "Postal code M5C coordinates are: latitude = 43.6514939; longitude = -79.3754179\n",
            "Postal code M6C coordinates are: latitude = 43.6937813; longitude = -79.42819140000002\n",
            "Postal code M9C coordinates are: latitude = 43.6435152; longitude = -79.57720079999999\n",
            "Postal code M9C coordinates are: latitude = 43.6435152; longitude = -79.57720079999999\n",
            "Postal code M9C coordinates are: latitude = 43.6435152; longitude = -79.57720079999999\n",
            "Postal code M9C coordinates are: latitude = 43.6435152; longitude = -79.57720079999999\n",
            "Postal code M1E coordinates are: latitude = 43.7635726; longitude = -79.1887115\n",
            "Postal code M1E coordinates are: latitude = 43.7635726; longitude = -79.1887115\n",
            "Postal code M1E coordinates are: latitude = 43.7635726; longitude = -79.1887115\n",
            "Postal code M4E coordinates are: latitude = 43.67635739999999; longitude = -79.2930312\n",
            "Postal code M5E coordinates are: latitude = 43.644770799999996; longitude = -79.3733064\n",
            "Postal code M6E coordinates are: latitude = 43.6890256; longitude = -79.453512\n",
            "Postal code M1G coordinates are: latitude = 43.7709921; longitude = -79.21691740000001\n",
            "Postal code M4G coordinates are: latitude = 43.7090604; longitude = -79.3634517\n",
            "Postal code M5G coordinates are: latitude = 43.6579524; longitude = -79.3873826\n",
            "Postal code M6G coordinates are: latitude = 43.669542; longitude = -79.4225637\n",
            "Postal code M1H coordinates are: latitude = 43.773136; longitude = -79.23947609999999\n",
            "Postal code M2H coordinates are: latitude = 43.8037622; longitude = -79.3634517\n",
            "Postal code M3H coordinates are: latitude = 43.7543283; longitude = -79.4422593\n",
            "Postal code M3H coordinates are: latitude = 43.7543283; longitude = -79.4422593\n",
            "Postal code M3H coordinates are: latitude = 43.7543283; longitude = -79.4422593\n",
            "Postal code M4H coordinates are: latitude = 43.7053689; longitude = -79.34937190000001\n",
            "Postal code M5H coordinates are: latitude = 43.65057120000001; longitude = -79.3845675\n",
            "Postal code M5H coordinates are: latitude = 43.65057120000001; longitude = -79.3845675\n",
            "Postal code M5H coordinates are: latitude = 43.65057120000001; longitude = -79.3845675\n",
            "Postal code M6H coordinates are: latitude = 43.66900510000001; longitude = -79.4422593\n",
            "Postal code M6H coordinates are: latitude = 43.66900510000001; longitude = -79.4422593\n",
            "Postal code M1J coordinates are: latitude = 43.7447342; longitude = -79.23947609999999\n",
            "Postal code M2J coordinates are: latitude = 43.7785175; longitude = -79.3465557\n",
            "Postal code M2J coordinates are: latitude = 43.7785175; longitude = -79.3465557\n",
            "Postal code M2J coordinates are: latitude = 43.7785175; longitude = -79.3465557\n",
            "Postal code M3J coordinates are: latitude = 43.7679803; longitude = -79.48726190000001\n",
            "Postal code M3J coordinates are: latitude = 43.7679803; longitude = -79.48726190000001\n",
            "Postal code M4J coordinates are: latitude = 43.685347; longitude = -79.3381065\n",
            "Postal code M5J coordinates are: latitude = 43.6408157; longitude = -79.38175229999999\n",
            "Postal code M5J coordinates are: latitude = 43.6408157; longitude = -79.38175229999999\n",
            "Postal code M5J coordinates are: latitude = 43.6408157; longitude = -79.38175229999999\n",
            "Postal code M6J coordinates are: latitude = 43.647926700000006; longitude = -79.4197497\n",
            "Postal code M6J coordinates are: latitude = 43.647926700000006; longitude = -79.4197497\n",
            "Postal code M1K coordinates are: latitude = 43.7279292; longitude = -79.26202940000002\n",
            "Postal code M1K coordinates are: latitude = 43.7279292; longitude = -79.26202940000002\n",
            "Postal code M1K coordinates are: latitude = 43.7279292; longitude = -79.26202940000002\n",
            "Postal code M2K coordinates are: latitude = 43.7869473; longitude = -79.385975\n",
            "Postal code M3K coordinates are: latitude = 43.737473200000004; longitude = -79.46476329999999\n",
            "Postal code M3K coordinates are: latitude = 43.737473200000004; longitude = -79.46476329999999\n",
            "Postal code M4K coordinates are: latitude = 43.6795571; longitude = -79.352188\n",
            "Postal code M4K coordinates are: latitude = 43.6795571; longitude = -79.352188\n",
            "Postal code M5K coordinates are: latitude = 43.6471768; longitude = -79.38157640000001\n",
            "Postal code M5K coordinates are: latitude = 43.6471768; longitude = -79.38157640000001\n",
            "Postal code M6K coordinates are: latitude = 43.6368472; longitude = -79.42819140000002\n",
            "Postal code M6K coordinates are: latitude = 43.6368472; longitude = -79.42819140000002\n",
            "Postal code M6K coordinates are: latitude = 43.6368472; longitude = -79.42819140000002\n",
            "Postal code M1L coordinates are: latitude = 43.711111700000004; longitude = -79.2845772\n",
            "Postal code M1L coordinates are: latitude = 43.711111700000004; longitude = -79.2845772\n",
            "Postal code M1L coordinates are: latitude = 43.711111700000004; longitude = -79.2845772\n",
            "Postal code M2L coordinates are: latitude = 43.7574902; longitude = -79.37471409999999\n",
            "Postal code M2L coordinates are: latitude = 43.7574902; longitude = -79.37471409999999\n",
            "Postal code M3L coordinates are: latitude = 43.7390146; longitude = -79.5069436\n",
            "Postal code M4L coordinates are: latitude = 43.6689985; longitude = -79.31557159999998\n",
            "Postal code M4L coordinates are: latitude = 43.6689985; longitude = -79.31557159999998\n",
            "Postal code M5L coordinates are: latitude = 43.6481985; longitude = -79.37981690000001\n",
            "Postal code M5L coordinates are: latitude = 43.6481985; longitude = -79.37981690000001\n",
            "Postal code M6L coordinates are: latitude = 43.713756200000006; longitude = -79.4900738\n",
            "Postal code M6L coordinates are: latitude = 43.713756200000006; longitude = -79.4900738\n",
            "Postal code M6L coordinates are: latitude = 43.713756200000006; longitude = -79.4900738\n",
            "Postal code M9L coordinates are: latitude = 43.7563033; longitude = -79.56596329999999\n",
            "Postal code M1M coordinates are: latitude = 43.716316; longitude = -79.23947609999999\n",
            "Postal code M1M coordinates are: latitude = 43.716316; longitude = -79.23947609999999\n",
            "Postal code M1M coordinates are: latitude = 43.716316; longitude = -79.23947609999999\n",
            "Postal code M2M coordinates are: latitude = 43.789053; longitude = -79.40849279999999\n",
            "Postal code M2M coordinates are: latitude = 43.789053; longitude = -79.40849279999999\n",
            "Postal code M3M coordinates are: latitude = 43.7284964; longitude = -79.49569740000001\n",
            "Postal code M4M coordinates are: latitude = 43.6595255; longitude = -79.340923\n",
            "Postal code M5M coordinates are: latitude = 43.7332825; longitude = -79.4197497\n",
            "Postal code M5M coordinates are: latitude = 43.7332825; longitude = -79.4197497\n",
            "Postal code M6M coordinates are: latitude = 43.6911158; longitude = -79.47601329999999\n",
            "Postal code M6M coordinates are: latitude = 43.6911158; longitude = -79.47601329999999\n",
            "Postal code M6M coordinates are: latitude = 43.6911158; longitude = -79.47601329999999\n",
            "Postal code M6M coordinates are: latitude = 43.6911158; longitude = -79.47601329999999\n",
            "Postal code M9M coordinates are: latitude = 43.7247659; longitude = -79.53224240000002\n",
            "Postal code M9M coordinates are: latitude = 43.7247659; longitude = -79.53224240000002\n",
            "Postal code M1N coordinates are: latitude = 43.692657000000004; longitude = -79.2648481\n",
            "Postal code M1N coordinates are: latitude = 43.692657000000004; longitude = -79.2648481\n",
            "Postal code M2N coordinates are: latitude = 43.7701199; longitude = -79.40849279999999\n",
            "Postal code M3N coordinates are: latitude = 43.7616313; longitude = -79.52099940000001\n",
            "Postal code M4N coordinates are: latitude = 43.7280205; longitude = -79.3887901\n",
            "Postal code M5N coordinates are: latitude = 43.7116948; longitude = -79.41693559999999\n",
            "Postal code M6N coordinates are: latitude = 43.67318529999999; longitude = -79.48726190000001\n",
            "Postal code M6N coordinates are: latitude = 43.67318529999999; longitude = -79.48726190000001\n",
            "Postal code M9N coordinates are: latitude = 43.706876; longitude = -79.51818840000001\n",
            "Postal code M1P coordinates are: latitude = 43.7574096; longitude = -79.27330400000001\n",
            "Postal code M1P coordinates are: latitude = 43.7574096; longitude = -79.27330400000001\n",
            "Postal code M1P coordinates are: latitude = 43.7574096; longitude = -79.27330400000001\n",
            "Postal code M2P coordinates are: latitude = 43.752758299999996; longitude = -79.4000493\n",
            "Postal code M4P coordinates are: latitude = 43.7127511; longitude = -79.3901975\n",
            "Postal code M5P coordinates are: latitude = 43.6969476; longitude = -79.41130720000001\n",
            "Postal code M5P coordinates are: latitude = 43.6969476; longitude = -79.41130720000001\n",
            "Postal code M6P coordinates are: latitude = 43.6616083; longitude = -79.46476329999999\n",
            "Postal code M6P coordinates are: latitude = 43.6616083; longitude = -79.46476329999999\n",
            "Postal code M9P coordinates are: latitude = 43.696319; longitude = -79.53224240000002\n",
            "Postal code M1R coordinates are: latitude = 43.750071500000004; longitude = -79.2958491\n",
            "Postal code M1R coordinates are: latitude = 43.750071500000004; longitude = -79.2958491\n",
            "Postal code M2R coordinates are: latitude = 43.7827364; longitude = -79.4422593\n",
            "Postal code M4R coordinates are: latitude = 43.7153834; longitude = -79.40567840000001\n",
            "Postal code M5R coordinates are: latitude = 43.6727097; longitude = -79.40567840000001\n",
            "Postal code M5R coordinates are: latitude = 43.6727097; longitude = -79.40567840000001\n",
            "Postal code M5R coordinates are: latitude = 43.6727097; longitude = -79.40567840000001\n",
            "Postal code M6R coordinates are: latitude = 43.6489597; longitude = -79.456325\n",
            "Postal code M6R coordinates are: latitude = 43.6489597; longitude = -79.456325\n",
            "Postal code M7R coordinates are: latitude = 43.6369656; longitude = -79.61581899999999\n",
            "Postal code M9R coordinates are: latitude = 43.6889054; longitude = -79.55472440000001\n",
            "Postal code M9R coordinates are: latitude = 43.6889054; longitude = -79.55472440000001\n",
            "Postal code M9R coordinates are: latitude = 43.6889054; longitude = -79.55472440000001\n",
            "Postal code M9R coordinates are: latitude = 43.6889054; longitude = -79.55472440000001\n",
            "Postal code M1S coordinates are: latitude = 43.7942003; longitude = -79.26202940000002\n",
            "Postal code M4S coordinates are: latitude = 43.7043244; longitude = -79.3887901\n",
            "Postal code M5S coordinates are: latitude = 43.6626956; longitude = -79.4000493\n",
            "Postal code M5S coordinates are: latitude = 43.6626956; longitude = -79.4000493\n",
            "Postal code M6S coordinates are: latitude = 43.6515706; longitude = -79.4844499\n",
            "Postal code M6S coordinates are: latitude = 43.6515706; longitude = -79.4844499\n",
            "Postal code M1T coordinates are: latitude = 43.7816375; longitude = -79.3043021\n",
            "Postal code M1T coordinates are: latitude = 43.7816375; longitude = -79.3043021\n",
            "Postal code M1T coordinates are: latitude = 43.7816375; longitude = -79.3043021\n",
            "Postal code M4T coordinates are: latitude = 43.6895743; longitude = -79.38315990000001\n",
            "Postal code M4T coordinates are: latitude = 43.6895743; longitude = -79.38315990000001\n",
            "Postal code M5T coordinates are: latitude = 43.6532057; longitude = -79.4000493\n",
            "Postal code M5T coordinates are: latitude = 43.6532057; longitude = -79.4000493\n",
            "Postal code M5T coordinates are: latitude = 43.6532057; longitude = -79.4000493\n",
            "Postal code M1V coordinates are: latitude = 43.8152522; longitude = -79.2845772\n",
            "Postal code M1V coordinates are: latitude = 43.8152522; longitude = -79.2845772\n",
            "Postal code M1V coordinates are: latitude = 43.8152522; longitude = -79.2845772\n",
            "Postal code M1V coordinates are: latitude = 43.8152522; longitude = -79.2845772\n",
            "Postal code M4V coordinates are: latitude = 43.68641229999999; longitude = -79.4000493\n",
            "Postal code M4V coordinates are: latitude = 43.68641229999999; longitude = -79.4000493\n",
            "Postal code M4V coordinates are: latitude = 43.68641229999999; longitude = -79.4000493\n",
            "Postal code M4V coordinates are: latitude = 43.68641229999999; longitude = -79.4000493\n",
            "Postal code M4V coordinates are: latitude = 43.68641229999999; longitude = -79.4000493\n",
            "Postal code M5V coordinates are: latitude = 43.6289467; longitude = -79.3944199\n",
            "Postal code M5V coordinates are: latitude = 43.6289467; longitude = -79.3944199\n",
            "Postal code M5V coordinates are: latitude = 43.6289467; longitude = -79.3944199\n",
            "Postal code M5V coordinates are: latitude = 43.6289467; longitude = -79.3944199\n",
            "Postal code M5V coordinates are: latitude = 43.6289467; longitude = -79.3944199\n",
            "Postal code M5V coordinates are: latitude = 43.6289467; longitude = -79.3944199\n",
            "Postal code M5V coordinates are: latitude = 43.6289467; longitude = -79.3944199\n",
            "Postal code M8V coordinates are: latitude = 43.6056466; longitude = -79.50132070000001\n",
            "Postal code M8V coordinates are: latitude = 43.6056466; longitude = -79.50132070000001\n",
            "Postal code M8V coordinates are: latitude = 43.6056466; longitude = -79.50132070000001\n",
            "Postal code M9V coordinates are: latitude = 43.739416399999996; longitude = -79.5884369\n",
            "Postal code M9V coordinates are: latitude = 43.739416399999996; longitude = -79.5884369\n",
            "Postal code M9V coordinates are: latitude = 43.739416399999996; longitude = -79.5884369\n",
            "Postal code M9V coordinates are: latitude = 43.739416399999996; longitude = -79.5884369\n",
            "Postal code M9V coordinates are: latitude = 43.739416399999996; longitude = -79.5884369\n",
            "Postal code M9V coordinates are: latitude = 43.739416399999996; longitude = -79.5884369\n",
            "Postal code M9V coordinates are: latitude = 43.739416399999996; longitude = -79.5884369\n",
            "Postal code M9V coordinates are: latitude = 43.739416399999996; longitude = -79.5884369\n",
            "Postal code M1W coordinates are: latitude = 43.799525200000005; longitude = -79.3183887\n",
            "Postal code M4W coordinates are: latitude = 43.6795626; longitude = -79.37752940000001\n",
            "Postal code M5W coordinates are: latitude = 43.6464352; longitude = -79.37484599999999\n",
            "Postal code M8W coordinates are: latitude = 43.60241370000001; longitude = -79.54348409999999\n",
            "Postal code M8W coordinates are: latitude = 43.60241370000001; longitude = -79.54348409999999\n",
            "Postal code M9W coordinates are: latitude = 43.706748299999994; longitude = -79.5940544\n",
            "Postal code M1X coordinates are: latitude = 43.836124700000006; longitude = -79.20563609999999\n",
            "Postal code M4X coordinates are: latitude = 43.667967; longitude = -79.3676753\n",
            "Postal code M4X coordinates are: latitude = 43.667967; longitude = -79.3676753\n",
            "Postal code M5X coordinates are: latitude = 43.6484292; longitude = -79.3822802\n",
            "Postal code M5X coordinates are: latitude = 43.6484292; longitude = -79.3822802\n",
            "Postal code M8X coordinates are: latitude = 43.653653600000005; longitude = -79.5069436\n",
            "Postal code M8X coordinates are: latitude = 43.653653600000005; longitude = -79.5069436\n",
            "Postal code M8X coordinates are: latitude = 43.653653600000005; longitude = -79.5069436\n",
            "Postal code M4Y coordinates are: latitude = 43.6658599; longitude = -79.38315990000001\n",
            "Postal code M7Y coordinates are: latitude = 43.6627439; longitude = -79.321558\n",
            "Postal code M8Y coordinates are: latitude = 43.6362579; longitude = -79.49850909999999\n",
            "Postal code M8Y coordinates are: latitude = 43.6362579; longitude = -79.49850909999999\n",
            "Postal code M8Y coordinates are: latitude = 43.6362579; longitude = -79.49850909999999\n",
            "Postal code M8Y coordinates are: latitude = 43.6362579; longitude = -79.49850909999999\n",
            "Postal code M8Y coordinates are: latitude = 43.6362579; longitude = -79.49850909999999\n",
            "Postal code M8Y coordinates are: latitude = 43.6362579; longitude = -79.49850909999999\n",
            "Postal code M8Y coordinates are: latitude = 43.6362579; longitude = -79.49850909999999\n",
            "Postal code M8Y coordinates are: latitude = 43.6362579; longitude = -79.49850909999999\n",
            "Postal code M8Z coordinates are: latitude = 43.6288408; longitude = -79.52099940000001\n",
            "Postal code M8Z coordinates are: latitude = 43.6288408; longitude = -79.52099940000001\n",
            "Postal code M8Z coordinates are: latitude = 43.6288408; longitude = -79.52099940000001\n",
            "Postal code M8Z coordinates are: latitude = 43.6288408; longitude = -79.52099940000001\n",
            "Postal code M8Z coordinates are: latitude = 43.6288408; longitude = -79.52099940000001\n"
          ],
          "name": "stdout"
        }
      ]
    },
    {
      "cell_type": "code",
      "metadata": {
        "id": "AzeaUkAcpyLE",
        "colab_type": "code",
        "outputId": "a03fcd2a-7270-45a4-b370-da222f1e125d",
        "colab": {
          "base_uri": "https://localhost:8080/",
          "height": 204
        }
      },
      "source": [
        "DF.head()"
      ],
      "execution_count": 12,
      "outputs": [
        {
          "output_type": "execute_result",
          "data": {
            "text/html": [
              "<div>\n",
              "<style scoped>\n",
              "    .dataframe tbody tr th:only-of-type {\n",
              "        vertical-align: middle;\n",
              "    }\n",
              "\n",
              "    .dataframe tbody tr th {\n",
              "        vertical-align: top;\n",
              "    }\n",
              "\n",
              "    .dataframe thead th {\n",
              "        text-align: right;\n",
              "    }\n",
              "</style>\n",
              "<table border=\"1\" class=\"dataframe\">\n",
              "  <thead>\n",
              "    <tr style=\"text-align: right;\">\n",
              "      <th></th>\n",
              "      <th>Postcode</th>\n",
              "      <th>Borough</th>\n",
              "      <th>Neighbourhood</th>\n",
              "      <th>Latitude</th>\n",
              "      <th>Longitude</th>\n",
              "    </tr>\n",
              "  </thead>\n",
              "  <tbody>\n",
              "    <tr>\n",
              "      <th>2</th>\n",
              "      <td>M3A</td>\n",
              "      <td>North York</td>\n",
              "      <td>Parkwoods</td>\n",
              "      <td>43.654260</td>\n",
              "      <td>-79.360636</td>\n",
              "    </tr>\n",
              "    <tr>\n",
              "      <th>3</th>\n",
              "      <td>M4A</td>\n",
              "      <td>North York</td>\n",
              "      <td>Victoria Village</td>\n",
              "      <td>43.718518</td>\n",
              "      <td>-79.464763</td>\n",
              "    </tr>\n",
              "    <tr>\n",
              "      <th>4</th>\n",
              "      <td>M5A</td>\n",
              "      <td>Downtown Toronto</td>\n",
              "      <td>Harbourfront</td>\n",
              "      <td>43.718518</td>\n",
              "      <td>-79.464763</td>\n",
              "    </tr>\n",
              "    <tr>\n",
              "      <th>5</th>\n",
              "      <td>M6A</td>\n",
              "      <td>North York</td>\n",
              "      <td>Lawrence Heights</td>\n",
              "      <td>43.662301</td>\n",
              "      <td>-79.389494</td>\n",
              "    </tr>\n",
              "    <tr>\n",
              "      <th>6</th>\n",
              "      <td>M6A</td>\n",
              "      <td>North York</td>\n",
              "      <td>Lawrence Manor</td>\n",
              "      <td>43.667856</td>\n",
              "      <td>-79.532242</td>\n",
              "    </tr>\n",
              "  </tbody>\n",
              "</table>\n",
              "</div>"
            ],
            "text/plain": [
              "  Postcode           Borough     Neighbourhood   Latitude  Longitude\n",
              "2      M3A        North York         Parkwoods  43.654260 -79.360636\n",
              "3      M4A        North York  Victoria Village  43.718518 -79.464763\n",
              "4      M5A  Downtown Toronto      Harbourfront  43.718518 -79.464763\n",
              "5      M6A        North York  Lawrence Heights  43.662301 -79.389494\n",
              "6      M6A        North York    Lawrence Manor  43.667856 -79.532242"
            ]
          },
          "metadata": {
            "tags": []
          },
          "execution_count": 12
        }
      ]
    },
    {
      "cell_type": "markdown",
      "metadata": {
        "id": "1jmOMie8xcx2",
        "colab_type": "text"
      },
      "source": [
        "Explore and cluster the neighborhoods in Toronto. You can decide to work with only boroughs that contain the word Toronto and then replicate the same analysis we did to the New York City data. It is up to you.\n",
        "\n",
        "Just make sure:\n",
        "\n",
        "to add enough Markdown cells to explain what you decided to do and to report any observations you make.\n",
        "to generate maps to visualize your neighborhoods and how they cluster together."
      ]
    },
    {
      "cell_type": "code",
      "metadata": {
        "id": "9bE7okgfxdtc",
        "colab_type": "code",
        "colab": {}
      },
      "source": [
        ""
      ],
      "execution_count": 0,
      "outputs": []
    }
  ]
}